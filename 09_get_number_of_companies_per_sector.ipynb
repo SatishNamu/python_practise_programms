{
 "cells": [
  {
   "cell_type": "markdown",
   "id": "d87476bd",
   "metadata": {},
   "source": [
    "## Get number of companies per sector\n",
    "\n",
    "Develop the function to get the number of companies per sector. As part of this Python Practice Test, we are primarily evaluating the ability to manipulate the dicts especially to group by a key and perform aggregations.\n",
    "* This scanerio can be solved by the help of conventional loops or itertools.\n",
    "* The input dictionary contains the name of company and it's sector.\n",
    "* The output dictionary should contain sector as key and number of companies per sector as it's values. \n",
    "* The output dictionary should be sorted in ascending order by sector name."
   ]
  },
  {
   "cell_type": "code",
   "execution_count": 129,
   "id": "c07993d2",
   "metadata": {},
   "outputs": [],
   "source": [
    "companies={\n",
    "    'Accenture': 'IT',\n",
    "    'Apple': 'IT',\n",
    "    'Adobe Systems Inc': 'IT',\n",
    "    'Alphabet': 'IT',\n",
    "    'Bank of America Corp': 'Financials',\n",
    "    'Biogen Inc': 'Health Care',\n",
    "    'Campbell Soup': 'Consumer Staples',\n",
    "    'Dr Pepper Snapple Group': 'Consumer Staples',\n",
    "    'ebay Inc': 'IT',\n",
    "    'FedEx Corporation': 'Industrials',\n",
    "    'Ford Motors': 'Consumer Products',\n",
    "    'General Motors': 'Consumer Products',\n",
    "    'Harley-Davidson': 'Consumer Products',\n",
    "    'Hewlett Packard Enterprise': 'IT',\n",
    "    'Intel Corp': 'IT',\n",
    "    'JP Morgan': 'Financials',\n",
    "    'Johnson & Johnson': 'Health Care',\n",
    "    'Microsft Corp': 'IT',\n",
    "    'Netflix Inc': 'IT',\n",
    "    'Nike': 'Consumer Products'}"
   ]
  },
  {
   "cell_type": "markdown",
   "id": "3a517573",
   "metadata": {},
   "source": [
    "### Step 1: Preview the data\n",
    "\n",
    "Let us first preview the data."
   ]
  },
  {
   "cell_type": "code",
   "execution_count": 130,
   "id": "3d700d5d",
   "metadata": {},
   "outputs": [
    {
     "data": {
      "text/plain": [
       "{'Accenture': 'IT',\n",
       " 'Apple': 'IT',\n",
       " 'Adobe Systems Inc': 'IT',\n",
       " 'Alphabet': 'IT',\n",
       " 'Bank of America Corp': 'Financials',\n",
       " 'Biogen Inc': 'Health Care',\n",
       " 'Campbell Soup': 'Consumer Staples',\n",
       " 'Dr Pepper Snapple Group': 'Consumer Staples',\n",
       " 'ebay Inc': 'IT',\n",
       " 'FedEx Corporation': 'Industrials',\n",
       " 'Ford Motors': 'Consumer Products',\n",
       " 'General Motors': 'Consumer Products',\n",
       " 'Harley-Davidson': 'Consumer Products',\n",
       " 'Hewlett Packard Enterprise': 'IT',\n",
       " 'Intel Corp': 'IT',\n",
       " 'JP Morgan': 'Financials',\n",
       " 'Johnson & Johnson': 'Health Care',\n",
       " 'Microsft Corp': 'IT',\n",
       " 'Netflix Inc': 'IT',\n",
       " 'Nike': 'Consumer Products'}"
      ]
     },
     "execution_count": 130,
     "metadata": {},
     "output_type": "execute_result"
    }
   ],
   "source": [
    "companies"
   ]
  },
  {
   "cell_type": "code",
   "execution_count": 131,
   "id": "7e841ffb",
   "metadata": {},
   "outputs": [
    {
     "data": {
      "text/plain": [
       "dict"
      ]
     },
     "execution_count": 131,
     "metadata": {},
     "output_type": "execute_result"
    }
   ],
   "source": [
    "type(companies)"
   ]
  },
  {
   "cell_type": "code",
   "execution_count": 132,
   "id": "2272f047",
   "metadata": {},
   "outputs": [
    {
     "data": {
      "text/plain": [
       "20"
      ]
     },
     "execution_count": 132,
     "metadata": {},
     "output_type": "execute_result"
    }
   ],
   "source": [
    "len(companies)"
   ]
  },
  {
   "cell_type": "markdown",
   "id": "ebb9020a",
   "metadata": {},
   "source": [
    "### Step 2: Provide the solution\n",
    "\n",
    "Now come up with the solution by developing the required logic. Once the function is developed, go to the next step to take care of the validation."
   ]
  },
  {
   "cell_type": "code",
   "execution_count": 85,
   "id": "118d70af",
   "metadata": {},
   "outputs": [],
   "source": [
    "def get_company_count_per_sector(companies):\n",
    "    company_count_per_sector = {}\n",
    "    for company in sorted(companies.items(),key = lambda x:x[1]):\n",
    "        if company[1] in company_count_per_sector:\n",
    "            company_count_per_sector[company[1]]+=1\n",
    "        else:\n",
    "            company_count_per_sector[company[1]]=1 \n",
    "    return company_count_per_sector"
   ]
  },
  {
   "cell_type": "code",
   "execution_count": 145,
   "id": "412b77a5",
   "metadata": {},
   "outputs": [],
   "source": [
    "import itertools as iter\n",
    "def get_company_count_per_sector(companies):\n",
    "    companies_sorted = sorted(companies.items(),key=lambda x:x[1])\n",
    "    companies_grouped = iter.groupby(companies_sorted,lambda x:x[1])\n",
    "    companies_count_per_sector = list(map(lambda x:(x[0],len(list(x[1]))),companies_grouped))\n",
    "    \n",
    "    return dict(companies_count_per_sector)"
   ]
  },
  {
   "cell_type": "markdown",
   "id": "66ef616f",
   "metadata": {},
   "source": [
    "### Step 3: Validate the function\n",
    "\n",
    "Let us validate the function by running below cells.\n",
    "* Here is the expected output.\n",
    "\n",
    "```python\n",
    "{'Consumer Products': 4,\n",
    "'Consumer Staples': 2,\n",
    "'Financials': 2,\n",
    "'Health Care': 2,\n",
    "'Industrials': 1,\n",
    "'IT': 9}\n",
    "```"
   ]
  },
  {
   "cell_type": "code",
   "execution_count": 146,
   "id": "882abddb",
   "metadata": {},
   "outputs": [
    {
     "data": {
      "text/plain": [
       "{'Consumer Products': 4,\n",
       " 'Consumer Staples': 2,\n",
       " 'Financials': 2,\n",
       " 'Health Care': 2,\n",
       " 'IT': 9,\n",
       " 'Industrials': 1}"
      ]
     },
     "execution_count": 146,
     "metadata": {},
     "output_type": "execute_result"
    }
   ],
   "source": [
    "company_count_per_sector = get_company_count_per_sector(companies)\n",
    "company_count_per_sector"
   ]
  },
  {
   "cell_type": "code",
   "execution_count": 147,
   "id": "7008cb3b",
   "metadata": {},
   "outputs": [
    {
     "data": {
      "text/plain": [
       "dict"
      ]
     },
     "execution_count": 147,
     "metadata": {},
     "output_type": "execute_result"
    }
   ],
   "source": [
    "type(company_count_per_sector) # dict"
   ]
  },
  {
   "cell_type": "code",
   "execution_count": 148,
   "id": "23b87865",
   "metadata": {},
   "outputs": [
    {
     "data": {
      "text/plain": [
       "9"
      ]
     },
     "execution_count": 148,
     "metadata": {},
     "output_type": "execute_result"
    }
   ],
   "source": [
    "company_count_per_sector['IT'] # 9"
   ]
  },
  {
   "cell_type": "code",
   "execution_count": null,
   "id": "e29c6e7c",
   "metadata": {},
   "outputs": [],
   "source": []
  }
 ],
 "metadata": {
  "kernelspec": {
   "display_name": "Python 3",
   "language": "python",
   "name": "python3"
  },
  "language_info": {
   "codemirror_mode": {
    "name": "ipython",
    "version": 3
   },
   "file_extension": ".py",
   "mimetype": "text/x-python",
   "name": "python",
   "nbconvert_exporter": "python",
   "pygments_lexer": "ipython3",
   "version": "3.6.12"
  }
 },
 "nbformat": 4,
 "nbformat_minor": 5
}
