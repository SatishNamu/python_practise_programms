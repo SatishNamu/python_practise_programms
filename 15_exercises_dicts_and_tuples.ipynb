{
 "cells": [
  {
   "cell_type": "markdown",
   "id": "c40b1790",
   "metadata": {
    "tags": []
   },
   "source": [
    "## Exercises - Dicts and Tuples\n",
    "\n",
    "Let us go through some exercises related to dict and tuple."
   ]
  },
  {
   "cell_type": "markdown",
   "id": "1ce382fc",
   "metadata": {
    "tags": []
   },
   "source": [
    "### Exercise 1 - Access all the values\n",
    "\n",
    "Get the values from the below dict in the form of a list."
   ]
  },
  {
   "cell_type": "code",
   "execution_count": 3,
   "id": "73543faa",
   "metadata": {},
   "outputs": [],
   "source": [
    "d = {\n",
    "    'order_id': 1,\n",
    "    'order_date': '2013-07-25',\n",
    "    'order_customer_id': 100,\n",
    "    'order_status': 'COMPLETE'\n",
    "}"
   ]
  },
  {
   "cell_type": "code",
   "execution_count": 10,
   "id": "32f4b131",
   "metadata": {},
   "outputs": [],
   "source": [
    "def get_values(d):\n",
    "    l=list(d.values())\n",
    "    return l"
   ]
  },
  {
   "cell_type": "code",
   "execution_count": 11,
   "id": "9de7c661",
   "metadata": {},
   "outputs": [
    {
     "data": {
      "text/plain": [
       "[1, '2013-07-25', 100, 'COMPLETE']"
      ]
     },
     "execution_count": 11,
     "metadata": {},
     "output_type": "execute_result"
    }
   ],
   "source": [
    "get_values(d) # Desired output: [1, '2013-07-25', 100, 'COMPLETE']"
   ]
  },
  {
   "cell_type": "code",
   "execution_count": 12,
   "id": "5f93c686",
   "metadata": {},
   "outputs": [
    {
     "data": {
      "text/plain": [
       "list"
      ]
     },
     "execution_count": 12,
     "metadata": {},
     "output_type": "execute_result"
    }
   ],
   "source": [
    "type(get_values(d)) # list"
   ]
  },
  {
   "cell_type": "markdown",
   "id": "cf08493e",
   "metadata": {},
   "source": [
    "### Exercise 2 - Get Data types of values\n",
    "\n",
    "Continue on previous exercise and print data type of each value returned by get_values."
   ]
  },
  {
   "cell_type": "code",
   "execution_count": 13,
   "id": "ebd710d0",
   "metadata": {},
   "outputs": [],
   "source": [
    "l = get_values(d)"
   ]
  },
  {
   "cell_type": "markdown",
   "id": "8b85ee7b",
   "metadata": {},
   "source": [
    "* As l is list, you will be able to use `for` loop to access the elements from l. Here is the desired output.\n",
    "\n",
    "```\n",
    "<class 'int'>\n",
    "<class 'str'>\n",
    "<class 'int'>\n",
    "<class 'str'>\n",
    "```"
   ]
  },
  {
   "cell_type": "code",
   "execution_count": 15,
   "id": "7eb0b527",
   "metadata": {},
   "outputs": [
    {
     "name": "stdout",
     "output_type": "stream",
     "text": [
      "<class 'int'>\n",
      "<class 'str'>\n",
      "<class 'int'>\n",
      "<class 'str'>\n"
     ]
    }
   ],
   "source": [
    "for e in l: print(type(e))"
   ]
  },
  {
   "cell_type": "markdown",
   "id": "a9fa749f",
   "metadata": {},
   "source": [
    "### Exercise 3 - Data Type Conversion\n",
    "\n",
    "As part of the below dict object, order_date is of type string. You need to convert the data type of **order_date** to date type."
   ]
  },
  {
   "cell_type": "code",
   "execution_count": 36,
   "id": "865febeb",
   "metadata": {},
   "outputs": [],
   "source": [
    "d = {\n",
    "    'order_id': 1,\n",
    "    'order_date': '2013-07-25',\n",
    "    'order_customer_id': 100,\n",
    "    'order_status': 'COMPLETE'\n",
    "}"
   ]
  },
  {
   "cell_type": "code",
   "execution_count": 37,
   "id": "6348c378",
   "metadata": {},
   "outputs": [],
   "source": [
    "import datetime\n",
    "\n",
    "def convert_date_type(d):\n",
    "    d.update({'order_date':(datetime.datetime.strptime(d['order_date'],'%Y-%m-%d'))})\n",
    "    return d"
   ]
  },
  {
   "cell_type": "markdown",
   "id": "0026c6cf",
   "metadata": {},
   "source": [
    "* Run below cell to validate the output. Here is the desired output.\n",
    "\n",
    "```python\n",
    "{'order_id': 1,\n",
    " 'order_date': datetime.datetime(2013, 7, 25, 0, 0),\n",
    " 'order_customer_id': 100,\n",
    " 'order_status': 'COMPLETE'}\n",
    "```"
   ]
  },
  {
   "cell_type": "code",
   "execution_count": 38,
   "id": "4a7e15e9",
   "metadata": {},
   "outputs": [
    {
     "data": {
      "text/plain": [
       "{'order_id': 1,\n",
       " 'order_date': datetime.datetime(2013, 7, 25, 0, 0),\n",
       " 'order_customer_id': 100,\n",
       " 'order_status': 'COMPLETE'}"
      ]
     },
     "execution_count": 38,
     "metadata": {},
     "output_type": "execute_result"
    }
   ],
   "source": [
    "d_converted = convert_date_type(d)\n",
    "d_converted"
   ]
  },
  {
   "cell_type": "code",
   "execution_count": 39,
   "id": "5781930e",
   "metadata": {},
   "outputs": [
    {
     "data": {
      "text/plain": [
       "datetime.datetime"
      ]
     },
     "execution_count": 39,
     "metadata": {},
     "output_type": "execute_result"
    }
   ],
   "source": [
    "type(d_converted['order_date']) # Output: datetime.datetime"
   ]
  },
  {
   "cell_type": "markdown",
   "id": "1efb6b8c",
   "metadata": {},
   "source": [
    "### Exercise 4 - Create list of dicts\n",
    "\n",
    "Create list of dicts for the following data.\n",
    "* Each element in the list should be of type dict.\n",
    "* The dict should contain **order_item_order_id** and **order_item_subtotal** as keys.\n",
    "\n",
    "|order_item_order_id|order_item_subtotal|\n",
    "|---|---|\n",
    "|1|299.98|\n",
    "|2|199.99|\n",
    "|2|250.0|\n",
    "|2|129.99|\n",
    "|4|49.98|\n",
    "|4|299.95|\n",
    "|4|150.0|\n",
    "|4|199.92|"
   ]
  },
  {
   "cell_type": "code",
   "execution_count": 8,
   "id": "db568d3a",
   "metadata": {},
   "outputs": [
    {
     "data": {
      "text/plain": [
       "(list, dict)"
      ]
     },
     "execution_count": 8,
     "metadata": {},
     "output_type": "execute_result"
    }
   ],
   "source": [
    "orders = [{'order_item_order_id':1,\n",
    "           'order_item_subtotal':299.98\n",
    "          },\n",
    "          {'order_item_order_id':2,\n",
    "           'order_item_subtotal':199.99\n",
    "          },\n",
    "          {'order_item_order_id':2,\n",
    "             'order_item_subtotal':250.0\n",
    "          },\n",
    "          {'order_item_order_id':2,\n",
    "          'order_item_subtotal':129.99\n",
    "          },\n",
    "          {'order_item_order_id':4,\n",
    "          'order_item_subtotal':49.98\n",
    "          },\n",
    "          {'order_item_order_id':4,\n",
    "          'order_item_subtotal':299.95\n",
    "          },\n",
    "          {'order_item_order_id':4,\n",
    "          'order_item_subtotal':150.0\n",
    "          },\n",
    "          {'order_item_order_id':4,\n",
    "          'order_item_subtotal':199.92\n",
    "          }]\n",
    "type(orders),type(orders[2])"
   ]
  },
  {
   "cell_type": "markdown",
   "id": "774e4475",
   "metadata": {},
   "source": [
    "### Exercise 5: Dict with max value\n",
    "\n",
    "Create a dict with order id and max order item subtotal using the below dict. The below dict contains order id as key and order item subtotals list as corresponding value."
   ]
  },
  {
   "cell_type": "code",
   "execution_count": 4,
   "id": "42fb8fb9",
   "metadata": {},
   "outputs": [],
   "source": [
    "order_item_subtotals = {\n",
    "    1: [299.98],\n",
    "    2: [199.99, 250.0, 129.99],\n",
    "    4: [49.98, 150.0, 199.92],\n",
    "    5: [299.98, 299.95, 99.96, 299.98, 129.99],\n",
    "    7: [199.99, 299.98, 79.95],\n",
    "    8: [179.97, 299.95, 199.92, 50.0]\n",
    "}"
   ]
  },
  {
   "cell_type": "code",
   "execution_count": 26,
   "id": "3910df43",
   "metadata": {},
   "outputs": [
    {
     "data": {
      "text/plain": [
       "{1: 299.98, 2: 250.0, 4: 199.92, 5: 299.98, 7: 299.98, 8: 299.95}"
      ]
     },
     "execution_count": 26,
     "metadata": {},
     "output_type": "execute_result"
    }
   ],
   "source": [
    "max_ois = {k:max(v) for k,v in order_item_subtotals.items()}\n",
    "max_ois"
   ]
  },
  {
   "cell_type": "markdown",
   "id": "7f986dc1",
   "metadata": {},
   "source": [
    "* Here is the desired output.\n",
    "\n",
    "```python\n",
    "{1: 299.98, 2: 250.0, 4: 199.92, 5: 299.98, 7: 299.98, 8: 299.95}\n",
    "```"
   ]
  },
  {
   "cell_type": "markdown",
   "id": "64b7170a",
   "metadata": {},
   "source": [
    "### Exercise 6: Dict with order revenue\n",
    "\n",
    "Create a dict with order item id and order item subtotal. The input dict will contain order item id as key and quantity along with price as value. **order item subtotal** is product of quantity and price."
   ]
  },
  {
   "cell_type": "code",
   "execution_count": 16,
   "id": "85a1607b",
   "metadata": {},
   "outputs": [],
   "source": [
    "order_items = {1: (1, 299.98),\n",
    " 2: (1, 199.99),\n",
    " 3: (5, 50.0),\n",
    " 4: (1, 129.99),\n",
    " 5: (2, 24.99),\n",
    " 6: (5, 59.99),\n",
    " 7: (3, 50.0),\n",
    " 8: (4, 49.98),\n",
    " 9: (1, 299.98),\n",
    " 10: (5, 59.99)}"
   ]
  },
  {
   "cell_type": "code",
   "execution_count": 21,
   "id": "9a0dc432",
   "metadata": {},
   "outputs": [],
   "source": [
    "order_item_subtotal = {k:v[0]*v[1] for k,v in order_items.items()}"
   ]
  },
  {
   "cell_type": "code",
   "execution_count": 22,
   "id": "84bd8941",
   "metadata": {},
   "outputs": [
    {
     "data": {
      "text/plain": [
       "{1: 299.98,\n",
       " 2: 199.99,\n",
       " 3: 250.0,\n",
       " 4: 129.99,\n",
       " 5: 49.98,\n",
       " 6: 299.95,\n",
       " 7: 150.0,\n",
       " 8: 199.92,\n",
       " 9: 299.98,\n",
       " 10: 299.95}"
      ]
     },
     "execution_count": 22,
     "metadata": {},
     "output_type": "execute_result"
    }
   ],
   "source": [
    "order_item_subtotal"
   ]
  },
  {
   "cell_type": "markdown",
   "id": "11467e11",
   "metadata": {},
   "source": [
    "* Here is the expected output.\n",
    "\n",
    "```python\n",
    "{1: 299.98,\n",
    " 2: 199.99,\n",
    " 3: 250.0,\n",
    " 4: 129.99,\n",
    " 5: 49.98,\n",
    " 6: 299.95,\n",
    " 7: 150.0,\n",
    " 8: 199.92,\n",
    " 9: 299.98,\n",
    " 10: 299.95}\n",
    "```"
   ]
  }
 ],
 "metadata": {
  "kernelspec": {
   "display_name": "Python 3",
   "language": "python",
   "name": "python3"
  },
  "language_info": {
   "codemirror_mode": {
    "name": "ipython",
    "version": 3
   },
   "file_extension": ".py",
   "mimetype": "text/x-python",
   "name": "python",
   "nbconvert_exporter": "python",
   "pygments_lexer": "ipython3",
   "version": "3.6.12"
  }
 },
 "nbformat": 4,
 "nbformat_minor": 5
}
