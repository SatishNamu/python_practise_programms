{
 "cells": [
  {
   "cell_type": "markdown",
   "metadata": {},
   "source": [
    "## Exercises - Basic Programming Constructs\n",
    "\n",
    "Please take care of following exercises.\n",
    "\n",
    "* Get sum of integers for a given range."
   ]
  },
  {
   "cell_type": "code",
   "execution_count": 1,
   "metadata": {
    "collapsed": false,
    "jupyter": {
     "outputs_hidden": false
    },
    "pycharm": {
     "name": "#%%\n"
    }
   },
   "outputs": [
    {
     "name": "stdout",
     "output_type": "stream",
     "text": [
      "45\n"
     ]
    }
   ],
   "source": [
    "lb = 5\n",
    "ub = 10\n",
    "\n",
    "total = 0\n",
    "for i in range(lb, ub+1):\n",
    "    total += i\n",
    "    \n",
    "print(total)\n",
    "# Complexity: o(n)"
   ]
  },
  {
   "cell_type": "markdown",
   "metadata": {},
   "source": [
    "* If you recollect your high school mathematics, there is a formula to get sum of integers for 1 to n. It is nothing but **(n * (n + 1))/2**. Using that we should be able to get sum of integers with in a given range between lower bound (lb) and upper bound (ub). It is nothing but\n",
    "\n",
    "**((ub * (ub + 1)) / 2) - (((lb - 1) * lb) / 2)**"
   ]
  },
  {
   "cell_type": "code",
   "execution_count": 2,
   "metadata": {
    "collapsed": false,
    "jupyter": {
     "outputs_hidden": false
    },
    "pycharm": {
     "name": "#%%\n"
    }
   },
   "outputs": [
    {
     "name": "stdout",
     "output_type": "stream",
     "text": [
      "10\n"
     ]
    }
   ],
   "source": [
    "lb1 = lb - 1\n",
    "res1 = lb1 * (lb1 + 1) / 2\n",
    "print(int(res1))"
   ]
  },
  {
   "cell_type": "code",
   "execution_count": 3,
   "metadata": {
    "collapsed": false,
    "jupyter": {
     "outputs_hidden": false
    },
    "pycharm": {
     "name": "#%%\n"
    }
   },
   "outputs": [
    {
     "name": "stdout",
     "output_type": "stream",
     "text": [
      "55\n"
     ]
    }
   ],
   "source": [
    "res2 = ub * (ub + 1) / 2\n",
    "print(int(res2))"
   ]
  },
  {
   "cell_type": "code",
   "execution_count": 4,
   "metadata": {},
   "outputs": [
    {
     "data": {
      "text/plain": [
       "45.0"
      ]
     },
     "execution_count": 4,
     "metadata": {},
     "output_type": "execute_result"
    }
   ],
   "source": [
    "res2 - res1"
   ]
  },
  {
   "cell_type": "code",
   "execution_count": 5,
   "metadata": {
    "collapsed": false,
    "jupyter": {
     "outputs_hidden": false
    },
    "pycharm": {
     "name": "#%%\n"
    }
   },
   "outputs": [
    {
     "name": "stdout",
     "output_type": "stream",
     "text": [
      "45\n"
     ]
    }
   ],
   "source": [
    "print(int(res2 - res1))\n",
    "# Complexity: o(1)"
   ]
  },
  {
   "cell_type": "code",
   "execution_count": 6,
   "metadata": {
    "collapsed": false,
    "jupyter": {
     "outputs_hidden": false
    },
    "pycharm": {
     "name": "#%%\n"
    }
   },
   "outputs": [],
   "source": [
    "# o(1) is much better solution when compared to o(n)"
   ]
  },
  {
   "cell_type": "markdown",
   "metadata": {},
   "source": [
    "### Exercise 2 - Get sum of squares of integers\n",
    "\n",
    "Get sum of squares of integers for a given range using **formula** - for 2 to 4, it should be 29. You can google around to get the formula for sum of squares of integers for 1 to n."
   ]
  },
  {
   "cell_type": "code",
   "execution_count": 47,
   "metadata": {},
   "outputs": [
    {
     "name": "stdout",
     "output_type": "stream",
     "text": [
      "29\n"
     ]
    }
   ],
   "source": [
    "total = 0\n",
    "for i in range(n1,n2+1):\n",
    "    res = i*(i+1)*(2*(i)+1)/6 - i*(i-1)*(2*(i)-1)/6 \n",
    "    total += res\n",
    "print(int(total))"
   ]
  },
  {
   "cell_type": "code",
   "execution_count": 48,
   "metadata": {},
   "outputs": [
    {
     "name": "stdout",
     "output_type": "stream",
     "text": [
      "29\n"
     ]
    }
   ],
   "source": [
    "res1 = n2*(n2+1)*(2*(n2)+1)/6\n",
    "n = n1-1 \n",
    "res2 = n*(n+1)*(2*(n)+1)/6\n",
    "print(int(res1-res2))"
   ]
  },
  {
   "cell_type": "markdown",
   "metadata": {},
   "source": [
    "### Exercise 3 - Get sum of even numbers\n",
    "\n",
    "Get sum of even numbers for a given range - for 5 to 10, it should 24."
   ]
  },
  {
   "cell_type": "code",
   "execution_count": 35,
   "metadata": {},
   "outputs": [
    {
     "name": "stdout",
     "output_type": "stream",
     "text": [
      "24\n"
     ]
    }
   ],
   "source": [
    "total = 0\n",
    "for i in range(5,10+1):\n",
    "    if i%2 == 0:\n",
    "        total += i\n",
    "print(total)"
   ]
  },
  {
   "cell_type": "code",
   "execution_count": 34,
   "metadata": {},
   "outputs": [
    {
     "name": "stdout",
     "output_type": "stream",
     "text": [
      "24\n"
     ]
    }
   ],
   "source": [
    "li = []\n",
    "li1 = []\n",
    "n = 5\n",
    "m = 10\n",
    "for i in range(1,m+1):\n",
    "    if i%2 == 0:\n",
    "        li.append(i)\n",
    "for i in range(1,n+1):\n",
    "    if i%2 == 0:\n",
    "        li1.append(i)\n",
    "print(len(li)*(len(li)+1) - len(li1)*(len(li1)+1))"
   ]
  },
  {
   "cell_type": "markdown",
   "metadata": {},
   "source": [
    "### Exercise 4 - Get sum of numbers in a list\n",
    "\n",
    "Create a collection using `[1, 6, 8, 3, 7, 2, 9]` and get sum of even numbers. Answer should be 16."
   ]
  },
  {
   "cell_type": "code",
   "execution_count": 38,
   "metadata": {},
   "outputs": [
    {
     "name": "stdout",
     "output_type": "stream",
     "text": [
      "16\n"
     ]
    }
   ],
   "source": [
    "random_num = [1, 6, 8, 3, 7, 2, 9]\n",
    "total = 0\n",
    "for each_num in random_num:\n",
    "    if each_num % 2 == 0:\n",
    "        total += each_num\n",
    "print(total)"
   ]
  },
  {
   "cell_type": "markdown",
   "metadata": {},
   "source": [
    "### Exercise 5 - Get sum of numbers divisible by 3\n",
    "\n",
    "Using the same collection get sum of numbers divisible by 3. Answer should be 18."
   ]
  },
  {
   "cell_type": "code",
   "execution_count": 41,
   "metadata": {},
   "outputs": [
    {
     "name": "stdout",
     "output_type": "stream",
     "text": [
      "18\n"
     ]
    }
   ],
   "source": [
    "total = 0\n",
    "for each_num in random_num:\n",
    "    if each_num % 3 == 0:\n",
    "        total += each_num\n",
    "print(total)"
   ]
  },
  {
   "cell_type": "code",
   "execution_count": null,
   "metadata": {},
   "outputs": [],
   "source": []
  }
 ],
 "metadata": {
  "kernelspec": {
   "display_name": "Python 3",
   "language": "python",
   "name": "python3"
  },
  "language_info": {
   "codemirror_mode": {
    "name": "ipython",
    "version": 3
   },
   "file_extension": ".py",
   "mimetype": "text/x-python",
   "name": "python",
   "nbconvert_exporter": "python",
   "pygments_lexer": "ipython3",
   "version": "3.6.12"
  }
 },
 "nbformat": 4,
 "nbformat_minor": 4
}
