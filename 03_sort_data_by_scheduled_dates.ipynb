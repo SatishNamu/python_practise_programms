{
 "cells": [
  {
   "cell_type": "markdown",
   "id": "ea2d60fa",
   "metadata": {},
   "source": [
    "## Sort Data by Scheduled Dates\n",
    "\n",
    "Develop logic to sort the data by scheduled dates. We will be providing list of tuples which contain Name, Location, Scheduled Date.\n",
    "* Create a function which take list (which contain tuples) as argument and return sorted list with tuples.\n",
    "* Data should be sorted in ascending order by date and then in ascending order by name.\n",
    "\n",
    "**Hint: Use `sorted` function to come up with the solution**"
   ]
  },
  {
   "cell_type": "code",
   "execution_count": 1,
   "id": "73cca8d0",
   "metadata": {},
   "outputs": [],
   "source": [
    "aspirants = [('Pardha Saradhi', 'India', '7/31/2021'),\n",
    " ('Asasri', 'India', '8/10/2021'),\n",
    " ('Sai Akshith', 'India', '7/30/2021'),\n",
    " ('Anmol', 'India', '7/5/2021'),\n",
    " ('Shravan', 'India', '7/28/2021'),\n",
    " ('Aditya', 'USA', '7/31/2021'),\n",
    " ('Prasanth ', 'USA', '8/14/2021'),\n",
    " ('Sahana', 'India', '7/26/2021'),\n",
    " ('Surendranatha Reddy', 'India', '7/25/2021'),\n",
    " ('Venkat ', 'USA', '7/26/2021')]"
   ]
  },
  {
   "cell_type": "markdown",
   "id": "959e08df",
   "metadata": {},
   "source": [
    "### Step 1: Preview the data\n",
    "\n",
    "Let us first preview the data."
   ]
  },
  {
   "cell_type": "code",
   "execution_count": 2,
   "id": "585b4b38",
   "metadata": {},
   "outputs": [
    {
     "data": {
      "text/plain": [
       "[('Pardha Saradhi', 'India', '7/31/2021'),\n",
       " ('Asasri', 'India', '8/10/2021'),\n",
       " ('Sai Akshith', 'India', '7/30/2021'),\n",
       " ('Anmol', 'India', '7/5/2021'),\n",
       " ('Shravan', 'India', '7/28/2021'),\n",
       " ('Aditya', 'USA', '7/31/2021'),\n",
       " ('Prasanth ', 'USA', '8/14/2021'),\n",
       " ('Sahana', 'India', '7/26/2021'),\n",
       " ('Surendranatha Reddy', 'India', '7/25/2021'),\n",
       " ('Venkat ', 'USA', '7/26/2021')]"
      ]
     },
     "execution_count": 2,
     "metadata": {},
     "output_type": "execute_result"
    }
   ],
   "source": [
    "aspirants"
   ]
  },
  {
   "cell_type": "code",
   "execution_count": 3,
   "id": "da20ee7b",
   "metadata": {},
   "outputs": [
    {
     "data": {
      "text/plain": [
       "list"
      ]
     },
     "execution_count": 3,
     "metadata": {},
     "output_type": "execute_result"
    }
   ],
   "source": [
    "type(aspirants)"
   ]
  },
  {
   "cell_type": "code",
   "execution_count": 4,
   "id": "af410d12",
   "metadata": {},
   "outputs": [
    {
     "data": {
      "text/plain": [
       "10"
      ]
     },
     "execution_count": 4,
     "metadata": {},
     "output_type": "execute_result"
    }
   ],
   "source": [
    "len(aspirants)"
   ]
  },
  {
   "cell_type": "code",
   "execution_count": 5,
   "id": "595cd2bb",
   "metadata": {},
   "outputs": [
    {
     "name": "stdout",
     "output_type": "stream",
     "text": [
      "The type of value ('Pardha Saradhi', 'India', '7/31/2021') is <class 'tuple'>\n",
      "The type of value ('Asasri', 'India', '8/10/2021') is <class 'tuple'>\n",
      "The type of value ('Sai Akshith', 'India', '7/30/2021') is <class 'tuple'>\n",
      "The type of value ('Anmol', 'India', '7/5/2021') is <class 'tuple'>\n",
      "The type of value ('Shravan', 'India', '7/28/2021') is <class 'tuple'>\n",
      "The type of value ('Aditya', 'USA', '7/31/2021') is <class 'tuple'>\n",
      "The type of value ('Prasanth ', 'USA', '8/14/2021') is <class 'tuple'>\n",
      "The type of value ('Sahana', 'India', '7/26/2021') is <class 'tuple'>\n",
      "The type of value ('Surendranatha Reddy', 'India', '7/25/2021') is <class 'tuple'>\n",
      "The type of value ('Venkat ', 'USA', '7/26/2021') is <class 'tuple'>\n"
     ]
    }
   ],
   "source": [
    "for aspirant in aspirants:\n",
    "    print(f'The type of value {aspirant} is {type(aspirant)}')"
   ]
  },
  {
   "cell_type": "markdown",
   "id": "4e697a60",
   "metadata": {},
   "source": [
    "### Step 2: Provide the solution\n",
    "\n",
    "Now come up with the solution by developing the required logic. Once the function is developed, go to the next step to take care of the validation."
   ]
  },
  {
   "cell_type": "code",
   "execution_count": 31,
   "id": "2cf5ed41",
   "metadata": {},
   "outputs": [],
   "source": [
    "# The logic should go here\n",
    "import datetime as dt\n",
    "def sort_data_by_scheduled_date(aspirants):\n",
    "    sorted_aspirants = sorted(aspirants,key=lambda aspirant:(dt.datetime.strptime(aspirant[2],'%m/%d/%Y'),aspirant[0]))\n",
    "    return sorted_aspirants"
   ]
  },
  {
   "cell_type": "markdown",
   "id": "d07a0f2f",
   "metadata": {},
   "source": [
    "### Step 3: Validate the function\n",
    "\n",
    "Let us validate the function by running below cells.\n",
    "* Here is the expected output.\n",
    "\n",
    "```python\n",
    "[('Anmol', 'India', '7/5/2021'),\n",
    " ('Surendranatha Reddy', 'India', '7/25/2021'),\n",
    " ('Sahana', 'India', '7/26/2021'),\n",
    " ('Venkat ', 'USA', '7/26/2021'),\n",
    " ('Shravan', 'India', '7/28/2021'),\n",
    " ('Sai Akshith', 'India', '7/30/2021'),\n",
    " ('Aditya', 'USA', '7/31/2021'),\n",
    " ('Pardha Saradhi', 'India', '7/31/2021'),\n",
    " ('Asasri', 'India', '8/10/2021'),\n",
    " ('Prasanth ', 'USA', '8/14/2021')]\n",
    "```"
   ]
  },
  {
   "cell_type": "code",
   "execution_count": 32,
   "id": "345f0967",
   "metadata": {},
   "outputs": [
    {
     "data": {
      "text/plain": [
       "[('Anmol', 'India', '7/5/2021'),\n",
       " ('Surendranatha Reddy', 'India', '7/25/2021'),\n",
       " ('Sahana', 'India', '7/26/2021'),\n",
       " ('Venkat ', 'USA', '7/26/2021'),\n",
       " ('Shravan', 'India', '7/28/2021'),\n",
       " ('Sai Akshith', 'India', '7/30/2021'),\n",
       " ('Aditya', 'USA', '7/31/2021'),\n",
       " ('Pardha Saradhi', 'India', '7/31/2021'),\n",
       " ('Asasri', 'India', '8/10/2021'),\n",
       " ('Prasanth ', 'USA', '8/14/2021')]"
      ]
     },
     "execution_count": 32,
     "metadata": {},
     "output_type": "execute_result"
    }
   ],
   "source": [
    "sorted_aspirants = sort_data_by_scheduled_date(aspirants)\n",
    "sorted_aspirants"
   ]
  },
  {
   "cell_type": "code",
   "execution_count": 33,
   "id": "716979df",
   "metadata": {},
   "outputs": [
    {
     "data": {
      "text/plain": [
       "list"
      ]
     },
     "execution_count": 33,
     "metadata": {},
     "output_type": "execute_result"
    }
   ],
   "source": [
    "type(sorted_aspirants) # It should be list"
   ]
  },
  {
   "cell_type": "code",
   "execution_count": 34,
   "id": "badf288f",
   "metadata": {},
   "outputs": [
    {
     "data": {
      "text/plain": [
       "10"
      ]
     },
     "execution_count": 34,
     "metadata": {},
     "output_type": "execute_result"
    }
   ],
   "source": [
    "len(sorted_aspirants) # It should be 10"
   ]
  },
  {
   "cell_type": "code",
   "execution_count": 35,
   "id": "ae42b59f",
   "metadata": {},
   "outputs": [
    {
     "data": {
      "text/plain": [
       "tuple"
      ]
     },
     "execution_count": 35,
     "metadata": {},
     "output_type": "execute_result"
    }
   ],
   "source": [
    "type(sorted_aspirants[0]) # It should be tuple."
   ]
  },
  {
   "cell_type": "code",
   "execution_count": null,
   "id": "3e0751f0",
   "metadata": {},
   "outputs": [],
   "source": []
  }
 ],
 "metadata": {
  "kernelspec": {
   "display_name": "Python 3",
   "language": "python",
   "name": "python3"
  },
  "language_info": {
   "codemirror_mode": {
    "name": "ipython",
    "version": 3
   },
   "file_extension": ".py",
   "mimetype": "text/x-python",
   "name": "python",
   "nbconvert_exporter": "python",
   "pygments_lexer": "ipython3",
   "version": "3.6.12"
  }
 },
 "nbformat": 4,
 "nbformat_minor": 5
}
