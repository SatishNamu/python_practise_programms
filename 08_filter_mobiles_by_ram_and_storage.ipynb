{
 "cells": [
  {
   "cell_type": "markdown",
   "id": "eeeac752",
   "metadata": {},
   "source": [
    "## Filter for mobiles by RAM and Storage\n",
    "\n",
    "Develop a function to get mobile details for given specifications such as RAM and storage.\n",
    "* The input data will be given in list of dicts with mobile phone specifications.\n",
    "* The output should contains mobiles based up on the given ram and storage.\n",
    "* The function should take 3 arguments - list of mobile details, RAM as well as storage.\n",
    "* The output should be in form of list of dicts. It should be sorted in the ascending order by company followed by model."
   ]
  },
  {
   "cell_type": "code",
   "execution_count": 46,
   "id": "83399a06",
   "metadata": {},
   "outputs": [],
   "source": [
    "mobile_details = [{'company': 'Apple',\n",
    "  'model': 'Iphone 12',\n",
    "  'ram': 4,\n",
    "  'storage': 256,\n",
    "  'os': 'iOS'},\n",
    " {'company': 'Xiaomi',\n",
    "  'model': 'Redmi 9',\n",
    "  'ram': 4,\n",
    "  'storage': 64,\n",
    "  'os': 'android'},\n",
    " {'company': 'One plus',\n",
    "  'model': 'One plus 9R',\n",
    "  'ram': 6,\n",
    "  'storage': 128,\n",
    "  'os': 'android'},\n",
    " {'company': 'Samsung',\n",
    "  'model': 'Galaxy M32',\n",
    "  'ram': 4,\n",
    "  'storage': 64,\n",
    "  'os': 'android'},\n",
    " {'company': 'Xiaomi',\n",
    "  'model': 'Redmi note 10 pro',\n",
    "  'ram': 8,\n",
    "  'storage': 128,\n",
    "  'os': 'android'},\n",
    " {'company': 'One plus',\n",
    "  'model': 'One plus Nord',\n",
    "  'ram': 4,\n",
    "  'storage': 128,\n",
    "  'os': 'android'},\n",
    " {'company': 'Apple',\n",
    "  'model': 'Iphone X',\n",
    "  'ram': 4,\n",
    "  'storage': 256,\n",
    "  'os': 'android'},\n",
    " {'company': 'Oppo',\n",
    "  'model': 'Oppo A31',\n",
    "  'ram': 4,\n",
    "  'storage': 64,\n",
    "  'os': 'iOS'}]"
   ]
  },
  {
   "cell_type": "markdown",
   "id": "9ce2c9da",
   "metadata": {},
   "source": [
    "### Step 1: Preview the data\n",
    "* Let us first preview the data."
   ]
  },
  {
   "cell_type": "code",
   "execution_count": 47,
   "id": "8be4b8f4",
   "metadata": {},
   "outputs": [
    {
     "data": {
      "text/plain": [
       "[{'company': 'Apple',\n",
       "  'model': 'Iphone 12',\n",
       "  'ram': 4,\n",
       "  'storage': 256,\n",
       "  'os': 'iOS'},\n",
       " {'company': 'Xiaomi',\n",
       "  'model': 'Redmi 9',\n",
       "  'ram': 4,\n",
       "  'storage': 64,\n",
       "  'os': 'android'},\n",
       " {'company': 'One plus',\n",
       "  'model': 'One plus 9R',\n",
       "  'ram': 6,\n",
       "  'storage': 128,\n",
       "  'os': 'android'},\n",
       " {'company': 'Samsung',\n",
       "  'model': 'Galaxy M32',\n",
       "  'ram': 4,\n",
       "  'storage': 64,\n",
       "  'os': 'android'},\n",
       " {'company': 'Xiaomi',\n",
       "  'model': 'Redmi note 10 pro',\n",
       "  'ram': 8,\n",
       "  'storage': 128,\n",
       "  'os': 'android'},\n",
       " {'company': 'One plus',\n",
       "  'model': 'One plus Nord',\n",
       "  'ram': 4,\n",
       "  'storage': 128,\n",
       "  'os': 'android'},\n",
       " {'company': 'Apple',\n",
       "  'model': 'Iphone X',\n",
       "  'ram': 4,\n",
       "  'storage': 256,\n",
       "  'os': 'android'},\n",
       " {'company': 'Oppo',\n",
       "  'model': 'Oppo A31',\n",
       "  'ram': 4,\n",
       "  'storage': 64,\n",
       "  'os': 'iOS'}]"
      ]
     },
     "execution_count": 47,
     "metadata": {},
     "output_type": "execute_result"
    }
   ],
   "source": [
    "mobile_details"
   ]
  },
  {
   "cell_type": "code",
   "execution_count": 48,
   "id": "f45edd95",
   "metadata": {},
   "outputs": [
    {
     "data": {
      "text/plain": [
       "list"
      ]
     },
     "execution_count": 48,
     "metadata": {},
     "output_type": "execute_result"
    }
   ],
   "source": [
    "type(mobile_details)"
   ]
  },
  {
   "cell_type": "code",
   "execution_count": 49,
   "id": "4ff23119",
   "metadata": {},
   "outputs": [
    {
     "data": {
      "text/plain": [
       "8"
      ]
     },
     "execution_count": 49,
     "metadata": {},
     "output_type": "execute_result"
    }
   ],
   "source": [
    "len(mobile_details)"
   ]
  },
  {
   "cell_type": "code",
   "execution_count": 50,
   "id": "a3802f42",
   "metadata": {},
   "outputs": [
    {
     "data": {
      "text/plain": [
       "{'company': 'Apple',\n",
       " 'model': 'Iphone 12',\n",
       " 'ram': 4,\n",
       " 'storage': 256,\n",
       " 'os': 'iOS'}"
      ]
     },
     "execution_count": 50,
     "metadata": {},
     "output_type": "execute_result"
    }
   ],
   "source": [
    "mobile_details[0]"
   ]
  },
  {
   "cell_type": "code",
   "execution_count": 51,
   "id": "415aa74b",
   "metadata": {},
   "outputs": [
    {
     "data": {
      "text/plain": [
       "dict"
      ]
     },
     "execution_count": 51,
     "metadata": {},
     "output_type": "execute_result"
    }
   ],
   "source": [
    "type(mobile_details[0])"
   ]
  },
  {
   "cell_type": "code",
   "execution_count": 52,
   "id": "331abe1e",
   "metadata": {},
   "outputs": [
    {
     "data": {
      "text/plain": [
       "5"
      ]
     },
     "execution_count": 52,
     "metadata": {},
     "output_type": "execute_result"
    }
   ],
   "source": [
    "len(mobile_details[0])"
   ]
  },
  {
   "cell_type": "markdown",
   "id": "7f37987e",
   "metadata": {},
   "source": [
    "### Step 2: Provide the solution\n",
    "Now come up with the solution by developing the required logic. Once the function is developed, go to the next step to take care of the validation."
   ]
  },
  {
   "cell_type": "code",
   "execution_count": 62,
   "id": "046fb7cb",
   "metadata": {},
   "outputs": [],
   "source": [
    "def get_mobile_details(mobile_details, ram, storage):\n",
    "    mobiles_sorted = sorted(mobile_details,key=lambda x:(x['company'],x['model']))\n",
    "    mobiles_filtered = list(filter(lambda x:(x['ram']==ram and x['storage']==storage),mobiles_sorted))\n",
    "    return mobiles_filtered"
   ]
  },
  {
   "cell_type": "markdown",
   "id": "99ddbbc0",
   "metadata": {},
   "source": [
    "### Step 3: Validate the function\n",
    "\n",
    "Here is the expected output.\n",
    "\n",
    "```python\n",
    "[{'company': 'Oppo',\n",
    "  'model': 'Oppo A31',\n",
    "  'ram': 4,\n",
    "  'storage': 64,\n",
    "  'os': 'iOS'},\n",
    " {'company': 'Samsung',\n",
    "  'model': 'Galaxy M32',\n",
    "  'ram': 4,\n",
    "  'storage': 64,\n",
    "  'os': 'android'},\n",
    " {'company': 'Xiaomi',\n",
    "  'model': 'Redmi 9',\n",
    "  'ram': 4,\n",
    "  'storage': 64,\n",
    "  'os': 'android'}]\n",
    "```"
   ]
  },
  {
   "cell_type": "code",
   "execution_count": 63,
   "id": "ef23119c",
   "metadata": {},
   "outputs": [],
   "source": [
    "mobile_details = get_mobile_details(mobile_details, 4, 64)"
   ]
  },
  {
   "cell_type": "code",
   "execution_count": 64,
   "id": "06f281bb",
   "metadata": {},
   "outputs": [
    {
     "data": {
      "text/plain": [
       "[{'company': 'Oppo',\n",
       "  'model': 'Oppo A31',\n",
       "  'ram': 4,\n",
       "  'storage': 64,\n",
       "  'os': 'iOS'},\n",
       " {'company': 'Samsung',\n",
       "  'model': 'Galaxy M32',\n",
       "  'ram': 4,\n",
       "  'storage': 64,\n",
       "  'os': 'android'},\n",
       " {'company': 'Xiaomi',\n",
       "  'model': 'Redmi 9',\n",
       "  'ram': 4,\n",
       "  'storage': 64,\n",
       "  'os': 'android'}]"
      ]
     },
     "execution_count": 64,
     "metadata": {},
     "output_type": "execute_result"
    }
   ],
   "source": [
    "mobile_details"
   ]
  },
  {
   "cell_type": "code",
   "execution_count": 65,
   "id": "fb88774b",
   "metadata": {},
   "outputs": [
    {
     "data": {
      "text/plain": [
       "list"
      ]
     },
     "execution_count": 65,
     "metadata": {},
     "output_type": "execute_result"
    }
   ],
   "source": [
    "type(mobile_details) # list"
   ]
  },
  {
   "cell_type": "code",
   "execution_count": 66,
   "id": "a03153df",
   "metadata": {},
   "outputs": [
    {
     "data": {
      "text/plain": [
       "3"
      ]
     },
     "execution_count": 66,
     "metadata": {},
     "output_type": "execute_result"
    }
   ],
   "source": [
    "len(mobile_details) # 3"
   ]
  },
  {
   "cell_type": "code",
   "execution_count": null,
   "id": "94bd9a2d",
   "metadata": {},
   "outputs": [],
   "source": []
  }
 ],
 "metadata": {
  "kernelspec": {
   "display_name": "Python 3",
   "language": "python",
   "name": "python3"
  },
  "language_info": {
   "codemirror_mode": {
    "name": "ipython",
    "version": 3
   },
   "file_extension": ".py",
   "mimetype": "text/x-python",
   "name": "python",
   "nbconvert_exporter": "python",
   "pygments_lexer": "ipython3",
   "version": "3.6.12"
  }
 },
 "nbformat": 4,
 "nbformat_minor": 5
}
