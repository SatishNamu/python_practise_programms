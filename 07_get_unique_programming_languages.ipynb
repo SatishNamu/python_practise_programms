{
 "cells": [
  {
   "cell_type": "markdown",
   "id": "4a5f0662",
   "metadata": {},
   "source": [
    "## Get unique programming languages\n",
    "\n",
    "Develop a function which takes a delimited string as input and returns unique values ignoring the case.\n",
    "* We have a string of programming languages which are delimited by `,`.\n",
    "* However the programming languages might be in mixed case. Also some of the programming languages have spaces in the beginning or the end.\n",
    "* We need to ignore spaces and also ignore the case to get unique list of programming languages.\n",
    "* Output should all be lower case, without leading or trailing spaces. The data type of the output should be `list`. Data should be sorted in ascending order."
   ]
  },
  {
   "cell_type": "code",
   "execution_count": 1,
   "id": "3113637c",
   "metadata": {},
   "outputs": [],
   "source": [
    "programming_languages = 'Python, Java , java,python, Scala, java script, python, Go, scala,java, Ruby, go, ruby, Java Script'"
   ]
  },
  {
   "cell_type": "markdown",
   "id": "77e0b2e1",
   "metadata": {},
   "source": [
    "### Step 1: Preview the data\n",
    "* Let us first preview the data."
   ]
  },
  {
   "cell_type": "code",
   "execution_count": 2,
   "id": "75b288b6",
   "metadata": {},
   "outputs": [
    {
     "data": {
      "text/plain": [
       "'Python, Java , java,python, Scala, java script, python, Go, scala,java, Ruby, go, ruby, Java Script'"
      ]
     },
     "execution_count": 2,
     "metadata": {},
     "output_type": "execute_result"
    }
   ],
   "source": [
    "programming_languages"
   ]
  },
  {
   "cell_type": "code",
   "execution_count": 3,
   "id": "9fc1b98c",
   "metadata": {},
   "outputs": [
    {
     "data": {
      "text/plain": [
       "str"
      ]
     },
     "execution_count": 3,
     "metadata": {},
     "output_type": "execute_result"
    }
   ],
   "source": [
    "type(programming_languages)"
   ]
  },
  {
   "cell_type": "markdown",
   "id": "dadecaac",
   "metadata": {},
   "source": [
    "### Step 2: Provide the solution\n",
    "Now come up with the solution by developing the required logic. Once the function is developed, go to the next step to take care of the validation."
   ]
  },
  {
   "cell_type": "code",
   "execution_count": 75,
   "id": "7044e42f",
   "metadata": {},
   "outputs": [],
   "source": [
    "def get_unique_programming_languages(programming_languages):\n",
    "    unique_programming_languages = sorted(set(map(lambda x:x.strip().lower(),programming_languages.split(','))))\n",
    "    return unique_programming_languages"
   ]
  },
  {
   "cell_type": "markdown",
   "id": "d0e0caae",
   "metadata": {},
   "source": [
    "### Step 3: Validate the function\n",
    "\n",
    "Here is the expected output.\n",
    "\n",
    "```python\n",
    "['go', 'java', 'java script', 'python', 'ruby', 'scala']\n",
    "```"
   ]
  },
  {
   "cell_type": "code",
   "execution_count": 76,
   "id": "8bf20d9e",
   "metadata": {},
   "outputs": [
    {
     "data": {
      "text/plain": [
       "['go', 'java', 'java script', 'python', 'ruby', 'scala']"
      ]
     },
     "execution_count": 76,
     "metadata": {},
     "output_type": "execute_result"
    }
   ],
   "source": [
    "unique_programming_languages = get_unique_programming_languages(programming_languages)\n",
    "unique_programming_languages"
   ]
  },
  {
   "cell_type": "code",
   "execution_count": 77,
   "id": "ecc612f0",
   "metadata": {},
   "outputs": [
    {
     "data": {
      "text/plain": [
       "list"
      ]
     },
     "execution_count": 77,
     "metadata": {},
     "output_type": "execute_result"
    }
   ],
   "source": [
    "type(unique_programming_languages) # list"
   ]
  },
  {
   "cell_type": "code",
   "execution_count": 78,
   "id": "6450c241",
   "metadata": {},
   "outputs": [
    {
     "data": {
      "text/plain": [
       "6"
      ]
     },
     "execution_count": 78,
     "metadata": {},
     "output_type": "execute_result"
    }
   ],
   "source": [
    "len(unique_programming_languages) # 6"
   ]
  },
  {
   "cell_type": "code",
   "execution_count": null,
   "id": "35042c19",
   "metadata": {},
   "outputs": [],
   "source": []
  }
 ],
 "metadata": {
  "kernelspec": {
   "display_name": "Python 3",
   "language": "python",
   "name": "python3"
  },
  "language_info": {
   "codemirror_mode": {
    "name": "ipython",
    "version": 3
   },
   "file_extension": ".py",
   "mimetype": "text/x-python",
   "name": "python",
   "nbconvert_exporter": "python",
   "pygments_lexer": "ipython3",
   "version": "3.6.12"
  }
 },
 "nbformat": 4,
 "nbformat_minor": 5
}
